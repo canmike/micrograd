{
 "cells": [
  {
   "cell_type": "markdown",
   "metadata": {},
   "source": [
    "# 1. Binary Classification Example"
   ]
  },
  {
   "cell_type": "code",
   "execution_count": 1,
   "metadata": {},
   "outputs": [],
   "source": [
    "import mikegrad as mg\n",
    "from mikegrad.nn import MLP"
   ]
  },
  {
   "cell_type": "code",
   "execution_count": 2,
   "metadata": {},
   "outputs": [],
   "source": [
    "xs = [\n",
    "  [2.0, 3.0, -1.0],\n",
    "  [3.0, -1.0, 0.5],\n",
    "  [0.5, 1.0, 1.0],\n",
    "  [1.0, 1.0, -1.0],\n",
    "]\n",
    "\n",
    "ys = [1.0, 0.0, 0.0, 1.0] # desired targets\n",
    "xs, ys = mg.from_list(xs), mg.from_list(ys)"
   ]
  },
  {
   "cell_type": "code",
   "execution_count": 3,
   "metadata": {},
   "outputs": [
    {
     "data": {
      "text/plain": [
       "<mikegrad.nn.MLP at 0x259fca0cd70>"
      ]
     },
     "execution_count": 3,
     "metadata": {},
     "output_type": "execute_result"
    }
   ],
   "source": [
    "mlp = MLP(nin=3, \n",
    "          nouts=[4, 4, 1],\n",
    "          act= mg.nn.Sigmoid(),\n",
    "          out_act= mg.nn.Sigmoid()\n",
    "          )\n",
    "mlp"
   ]
  },
  {
   "cell_type": "code",
   "execution_count": 4,
   "metadata": {},
   "outputs": [],
   "source": [
    "from tqdm import tqdm\n",
    "\n",
    "def train(mlp, xs, ys, loss_fn, lr=1e-2, nepochs=100):\n",
    "    for i in tqdm(range(nepochs)):\n",
    "        ypred = [mlp(x) for x in xs]\n",
    "        #loss = sum([(yp - yt)**2 for yp, yt in zip(ypred, ys)]) # mse loss\n",
    "        loss = loss_fn(ypred, ys)\n",
    "        # print(f\"Epoch [{i+1}/{nepochs}] | Loss: {loss.data:.6f}\")\n",
    "        for p in mlp.parameters():\n",
    "            p.grad = 0.0\n",
    "        loss.backward()\n",
    "        for p in mlp.parameters():\n",
    "            p.data -= lr * p.grad    "
   ]
  },
  {
   "cell_type": "code",
   "execution_count": 5,
   "metadata": {},
   "outputs": [
    {
     "name": "stderr",
     "output_type": "stream",
     "text": [
      "100%|██████████| 1000/1000 [00:02<00:00, 447.79it/s]\n"
     ]
    }
   ],
   "source": [
    "from mikegrad.losses import BCELoss\n",
    "\n",
    "lr=0.1\n",
    "nepochs=1000\n",
    "loss_fn = BCELoss()\n",
    "train(mlp, xs, ys, loss_fn, lr, nepochs)"
   ]
  },
  {
   "cell_type": "code",
   "execution_count": 6,
   "metadata": {},
   "outputs": [
    {
     "name": "stdout",
     "output_type": "stream",
     "text": [
      "Loss: 0.029166\n",
      "Predictions:\n",
      "[0.97, 0.02, 0.04, 0.96]\n",
      "Targets:\n",
      "[1.0, 0.0, 0.0, 1.0]\n"
     ]
    }
   ],
   "source": [
    "ypred = [mlp(x) for x in xs]\n",
    "loss = loss_fn(ypred, ys)\n",
    "\n",
    "print(f\"Loss: {loss.data:.6f}\")\n",
    "\n",
    "print(\"Predictions:\")\n",
    "print([round(yp.data, 2) for yp in ypred])\n",
    "print(\"Targets:\")\n",
    "print([yt.data for yt in ys])"
   ]
  },
  {
   "cell_type": "markdown",
   "metadata": {},
   "source": [
    "# 2. Multiclass Classification Example"
   ]
  },
  {
   "cell_type": "code",
   "execution_count": 7,
   "metadata": {},
   "outputs": [],
   "source": [
    "import mikegrad as mg\n",
    "from mikegrad.nn import MLP"
   ]
  },
  {
   "cell_type": "code",
   "execution_count": 8,
   "metadata": {},
   "outputs": [],
   "source": [
    "xs = [\n",
    "  [2.0, 3.0, -1.0],\n",
    "  [3.0, -1.0, 0.5],\n",
    "  [-3.0, 0.01, 0.5],\n",
    "  [0.5, -1.0, 1.0],\n",
    "  [1.0, 1.0, -1.0],\n",
    "  [-2.4, 0.03, 0.6]\n",
    "]\n",
    "\n",
    "ys = [1, 0, 2, 0, 1, 2] # desired targets\n",
    "\n",
    "xs, ys = mg.from_list(xs), mg.from_list(ys)\n",
    "NUM_CLASSES = 3"
   ]
  },
  {
   "cell_type": "code",
   "execution_count": 9,
   "metadata": {},
   "outputs": [
    {
     "data": {
      "text/plain": [
       "<mikegrad.nn.MLP at 0x259fd01dd30>"
      ]
     },
     "execution_count": 9,
     "metadata": {},
     "output_type": "execute_result"
    }
   ],
   "source": [
    "mlp = MLP(nin=3, \n",
    "          nouts=[8, 8, NUM_CLASSES],\n",
    "          act= mg.nn.Sigmoid(),\n",
    "          out_act= mg.nn.Softmax()\n",
    "          )\n",
    "mlp"
   ]
  },
  {
   "cell_type": "code",
   "execution_count": 10,
   "metadata": {},
   "outputs": [],
   "source": [
    "from tqdm import tqdm\n",
    "\n",
    "def train(mlp, xs, ys, loss_fn, lr=1e-2, nepochs=100):\n",
    "    for i in tqdm(range(nepochs)):\n",
    "        ypred = [mlp(x) for x in xs]\n",
    "        #loss = sum([(yp - yt)**2 for yp, yt in zip(ypred, ys)]) # mse loss\n",
    "        loss = loss_fn(ypred, ys)\n",
    "        # print(f\"Epoch [{i+1}/{nepochs}] | Loss: {loss.data:.6f}\")\n",
    "        for p in mlp.parameters():\n",
    "            p.grad = 0.0\n",
    "        loss.backward()\n",
    "        for p in mlp.parameters():\n",
    "            p.data -= lr * p.grad    "
   ]
  },
  {
   "cell_type": "code",
   "execution_count": 11,
   "metadata": {},
   "outputs": [
    {
     "name": "stderr",
     "output_type": "stream",
     "text": [
      "100%|██████████| 1000/1000 [00:17<00:00, 56.93it/s]\n"
     ]
    }
   ],
   "source": [
    "from mikegrad.losses import CrossEntropyLoss\n",
    "\n",
    "lr=0.1\n",
    "nepochs=1000\n",
    "loss_fn = CrossEntropyLoss()\n",
    "train(mlp, xs, ys, loss_fn, lr, nepochs)"
   ]
  },
  {
   "cell_type": "code",
   "execution_count": 12,
   "metadata": {},
   "outputs": [
    {
     "name": "stdout",
     "output_type": "stream",
     "text": [
      "Loss: 0.023669\n",
      "Predictions:\n",
      "[1, 0, 2, 0, 1, 2]\n",
      "Targets:\n",
      "[1, 0, 2, 0, 1, 2]\n"
     ]
    }
   ],
   "source": [
    "ypred = [mlp(x) for x in xs]\n",
    "loss = loss_fn(ypred, ys)\n",
    "\n",
    "print(f\"Loss: {loss.data:.6f}\")\n",
    "\n",
    "print(\"Predictions:\")\n",
    "print([mg.argmax(yp) for yp in ypred])\n",
    "print(\"Targets:\")\n",
    "print([yt.data for yt in ys])"
   ]
  },
  {
   "cell_type": "code",
   "execution_count": 13,
   "metadata": {},
   "outputs": [
    {
     "data": {
      "text/plain": [
       "[[Value(data=0.011130726327233371),\n",
       "  Value(data=0.984895996341854),\n",
       "  Value(data=0.003973277330912545)],\n",
       " [Value(data=0.9822483815653344),\n",
       "  Value(data=0.014192862356565864),\n",
       "  Value(data=0.003558756078099876)],\n",
       " [Value(data=0.015576560603280843),\n",
       "  Value(data=0.008213631496927278),\n",
       "  Value(data=0.9762098078997918)],\n",
       " [Value(data=0.97182369784122),\n",
       "  Value(data=0.008330458878764962),\n",
       "  Value(data=0.019845843280015034)],\n",
       " [Value(data=0.0202580739375767),\n",
       "  Value(data=0.9715510653715581),\n",
       "  Value(data=0.008190860690865135)],\n",
       " [Value(data=0.01964635155586016),\n",
       "  Value(data=0.007345637078301378),\n",
       "  Value(data=0.9730080113658384)]]"
      ]
     },
     "execution_count": 13,
     "metadata": {},
     "output_type": "execute_result"
    }
   ],
   "source": [
    "ypred"
   ]
  },
  {
   "cell_type": "markdown",
   "metadata": {},
   "source": [
    "# 3. Regression Example"
   ]
  },
  {
   "cell_type": "code",
   "execution_count": 14,
   "metadata": {},
   "outputs": [
    {
     "data": {
      "image/png": "[encoded data removed]",
      "text/plain": [
       "<Figure size 640x480 with 1 Axes>"
      ]
     },
     "metadata": {},
     "output_type": "display_data"
    }
   ],
   "source": [
    "import numpy as np\n",
    "import matplotlib.pyplot as plt\n",
    "\n",
    "def f(x):\n",
    "    return (1/5)*x**3 - 3*x + 4\n",
    "\n",
    "xs = np.arange(-5, 5, 0.25)\n",
    "ys = f(xs)\n",
    "# min max scaling to ys to be in [0, 1]\n",
    "ys = (ys - ys.min())/(ys.max() - ys.min())\n",
    "\n",
    "plt.plot(xs, ys)\n",
    "xs = [[x] for x in xs]"
   ]
  },
  {
   "cell_type": "code",
   "execution_count": 15,
   "metadata": {},
   "outputs": [],
   "source": [
    "from tqdm import tqdm\n",
    "\n",
    "def train(mlp, xs, ys, loss_fn, lr=1e-2, nepochs=100):\n",
    "    for i in tqdm(range(nepochs)):\n",
    "        ypred = [mlp(x) for x in xs]\n",
    "        #loss = sum([(yp - yt)**2 for yp, yt in zip(ypred, ys)]) # mse loss\n",
    "        loss = loss_fn(ypred, ys)\n",
    "        # print(f\"Epoch [{i+1}/{nepochs}] | Loss: {loss.data:.6f}\")\n",
    "        for p in mlp.parameters():\n",
    "            p.grad = 0.0\n",
    "        loss.backward()\n",
    "        for p in mlp.parameters():\n",
    "            p.data -= lr * p.grad    "
   ]
  },
  {
   "cell_type": "code",
   "execution_count": 16,
   "metadata": {},
   "outputs": [
    {
     "name": "stderr",
     "output_type": "stream",
     "text": [
      "100%|██████████| 2000/2000 [00:43<00:00, 46.36it/s]\n"
     ]
    }
   ],
   "source": [
    "from mikegrad.losses import MSELoss\n",
    "\n",
    "mlp = MLP(1, [8, 1])\n",
    "lr=0.5\n",
    "nepochs=2000\n",
    "loss_fn = MSELoss()\n",
    "\n",
    "train(mlp, xs, ys, loss_fn, lr, nepochs)"
   ]
  },
  {
   "cell_type": "code",
   "execution_count": 17,
   "metadata": {},
   "outputs": [
    {
     "name": "stdout",
     "output_type": "stream",
     "text": [
      "Loss: 0.001179\n"
     ]
    }
   ],
   "source": [
    "y_preds = [mlp(x) for x in xs]\n",
    "\n",
    "loss = loss_fn(y_preds, ys)\n",
    "print(f\"Loss: {loss.data:.6f}\")"
   ]
  },
  {
   "cell_type": "code",
   "execution_count": 18,
   "metadata": {},
   "outputs": [
    {
     "data": {
      "text/plain": [
       "<matplotlib.legend.Legend at 0x259ff6afb60>"
      ]
     },
     "execution_count": 18,
     "metadata": {},
     "output_type": "execute_result"
    },
    {
     "data": {
      "image/png": "[encoded data removed]",
      "text/plain": [
       "<Figure size 640x480 with 1 Axes>"
      ]
     },
     "metadata": {},
     "output_type": "display_data"
    }
   ],
   "source": [
    "plt.plot(xs, [y.data for y in y_preds])\n",
    "plt.plot(xs, ys)\n",
    "plt.legend(['Predictions', 'Ground Truth'])"
   ]
  }
 ],
 "metadata": {
  "kernelspec": {
   "display_name": "torchenv",
   "language": "python",
   "name": "python3"
  },
  "language_info": {
   "codemirror_mode": {
    "name": "ipython",
    "version": 3
   },
   "file_extension": ".py",
   "mimetype": "text/x-python",
   "name": "python",
   "nbconvert_exporter": "python",
   "pygments_lexer": "ipython3",
   "version": "3.12.2"
  }
 },
 "nbformat": 4,
 "nbformat_minor": 2
}
