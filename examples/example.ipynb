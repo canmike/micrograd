{
 "cells": [
  {
   "cell_type": "markdown",
   "metadata": {},
   "source": [
    "# 1. Binary Classification Example"
   ]
  },
  {
   "cell_type": "code",
   "execution_count": 1,
   "metadata": {},
   "outputs": [],
   "source": [
    "import mikegrad as mg\n",
    "from mikegrad.nn import MLP"
   ]
  },
  {
   "cell_type": "code",
   "execution_count": 2,
   "metadata": {},
   "outputs": [],
   "source": [
    "xs = [\n",
    "  [2.0, 3.0, -1.0],\n",
    "  [3.0, -1.0, 0.5],\n",
    "  [0.5, 1.0, 1.0],\n",
    "  [1.0, 1.0, -1.0],\n",
    "]\n",
    "\n",
    "ys = [1.0, 0.0, 0.0, 1.0] # desired targets\n",
    "xs, ys = mg.from_list(xs), mg.from_list(ys)"
   ]
  },
  {
   "cell_type": "code",
   "execution_count": 3,
   "metadata": {},
   "outputs": [
    {
     "data": {
      "text/plain": [
       "<mikegrad.nn.MLP at 0x26d874f4560>"
      ]
     },
     "execution_count": 3,
     "metadata": {},
     "output_type": "execute_result"
    }
   ],
   "source": [
    "mlp = MLP(nin=3, \n",
    "          nouts=[4, 4, 1],\n",
    "          act= mg.nn.ReLU(),\n",
    "          out_act= mg.nn.Sigmoid()\n",
    "          )\n",
    "mlp"
   ]
  },
  {
   "cell_type": "code",
   "execution_count": 4,
   "metadata": {},
   "outputs": [],
   "source": [
    "from tqdm import tqdm\n",
    "\n",
    "def train(mlp, xs, ys, loss_fn, optimizer, nepochs=100):\n",
    "    for i in tqdm(range(nepochs)):\n",
    "        optimizer.zero_grad()\n",
    "        ypred = [mlp(x) for x in xs]\n",
    "        loss = loss_fn(ypred, ys)\n",
    "        # print(f\"Epoch [{i+1}/{nepochs}] | Loss: {loss.data:.6f}\")\n",
    "        loss.backward()   \n",
    "        optimizer.step()"
   ]
  },
  {
   "cell_type": "code",
   "execution_count": 5,
   "metadata": {},
   "outputs": [
    {
     "name": "stderr",
     "output_type": "stream",
     "text": [
      "100%|██████████| 1000/1000 [00:02<00:00, 464.11it/s]\n"
     ]
    }
   ],
   "source": [
    "from mikegrad.losses import BCELoss\n",
    "from mikegrad.optim import SGD\n",
    "\n",
    "nepochs=1000\n",
    "loss_fn = BCELoss()\n",
    "lr=0.1\n",
    "optimizer = SGD(mlp.parameters(), lr=lr)\n",
    "train(mlp, xs, ys, loss_fn, optimizer, nepochs)"
   ]
  },
  {
   "cell_type": "code",
   "execution_count": 6,
   "metadata": {},
   "outputs": [
    {
     "name": "stdout",
     "output_type": "stream",
     "text": [
      "Loss: 0.011494\n",
      "Predictions:\n",
      "[1.0, 0.02, 0.02, 1.0]\n",
      "Targets:\n",
      "[1.0, 0.0, 0.0, 1.0]\n"
     ]
    }
   ],
   "source": [
    "ypred = [mlp(x) for x in xs]\n",
    "loss = loss_fn(ypred, ys)\n",
    "\n",
    "print(f\"Loss: {loss.data:.6f}\")\n",
    "\n",
    "print(\"Predictions:\")\n",
    "print([round(yp.data, 2) for yp in ypred])\n",
    "print(\"Targets:\")\n",
    "print([yt.data for yt in ys])"
   ]
  },
  {
   "cell_type": "markdown",
   "metadata": {},
   "source": [
    "# 2. Multiclass Classification Example"
   ]
  },
  {
   "cell_type": "code",
   "execution_count": 7,
   "metadata": {},
   "outputs": [],
   "source": [
    "import mikegrad as mg\n",
    "from mikegrad.nn import MLP"
   ]
  },
  {
   "cell_type": "code",
   "execution_count": 8,
   "metadata": {},
   "outputs": [],
   "source": [
    "xs = [\n",
    "  [2.0, 3.0, -1.0],\n",
    "  [3.0, -1.0, 0.5],\n",
    "  [-3.0, 0.01, 0.5],\n",
    "  [0.5, -1.0, 1.0],\n",
    "  [1.0, 1.0, -1.0],\n",
    "  [-2.4, 0.03, 0.6]\n",
    "]\n",
    "\n",
    "ys = [1, 0, 2, 0, 1, 2] # desired targets\n",
    "\n",
    "xs, ys = mg.from_list(xs), mg.from_list(ys)\n",
    "NUM_CLASSES = 3"
   ]
  },
  {
   "cell_type": "code",
   "execution_count": 9,
   "metadata": {},
   "outputs": [
    {
     "data": {
      "text/plain": [
       "<mikegrad.nn.MLP at 0x26d883b4710>"
      ]
     },
     "execution_count": 9,
     "metadata": {},
     "output_type": "execute_result"
    }
   ],
   "source": [
    "mlp = MLP(nin=3, \n",
    "          nouts=[8, 8, NUM_CLASSES],\n",
    "          act= mg.nn.LeakyReLU(),\n",
    "          out_act= mg.nn.Softmax()\n",
    "          )\n",
    "mlp"
   ]
  },
  {
   "cell_type": "code",
   "execution_count": 10,
   "metadata": {},
   "outputs": [],
   "source": [
    "from tqdm import tqdm\n",
    "\n",
    "def train(mlp, xs, ys, loss_fn, optimizer, nepochs=100):\n",
    "    for i in tqdm(range(nepochs)):\n",
    "        optimizer.zero_grad()\n",
    "        ypred = [mlp(x) for x in xs]\n",
    "        loss = loss_fn(ypred, ys)\n",
    "        # print(f\"Epoch [{i+1}/{nepochs}] | Loss: {loss.data:.6f}\")\n",
    "        loss.backward()   \n",
    "        optimizer.step()"
   ]
  },
  {
   "cell_type": "code",
   "execution_count": 11,
   "metadata": {},
   "outputs": [
    {
     "name": "stderr",
     "output_type": "stream",
     "text": [
      "100%|██████████| 1000/1000 [00:17<00:00, 58.06it/s]\n"
     ]
    }
   ],
   "source": [
    "from mikegrad.losses import CrossEntropyLoss\n",
    "from mikegrad.optim import SGD\n",
    "\n",
    "nepochs=1000\n",
    "loss_fn = CrossEntropyLoss()\n",
    "lr=0.1\n",
    "optimizer = SGD(mlp.parameters(), lr=lr)\n",
    "train(mlp, xs, ys, loss_fn, optimizer, nepochs)"
   ]
  },
  {
   "cell_type": "code",
   "execution_count": 12,
   "metadata": {},
   "outputs": [
    {
     "name": "stdout",
     "output_type": "stream",
     "text": [
      "Loss: 0.000490\n",
      "Predictions:\n",
      "[1, 0, 2, 0, 1, 2]\n",
      "Targets:\n",
      "[1, 0, 2, 0, 1, 2]\n"
     ]
    }
   ],
   "source": [
    "ypred = [mlp(x) for x in xs]\n",
    "loss = loss_fn(ypred, ys)\n",
    "\n",
    "print(f\"Loss: {loss.data:.6f}\")\n",
    "\n",
    "print(\"Predictions:\")\n",
    "print([mg.argmax(yp) for yp in ypred])\n",
    "print(\"Targets:\")\n",
    "print([yt.data for yt in ys])"
   ]
  },
  {
   "cell_type": "code",
   "execution_count": 13,
   "metadata": {},
   "outputs": [
    {
     "data": {
      "text/plain": [
       "[[0.0, 1.0, 0.0],\n",
       " [0.9999, 0.0001, 0.0],\n",
       " [0.0, 0.0, 1.0],\n",
       " [0.9993, 0.0005, 0.0002],\n",
       " [0.001, 0.9983, 0.0007],\n",
       " [0.0, 0.0004, 0.9996]]"
      ]
     },
     "execution_count": 13,
     "metadata": {},
     "output_type": "execute_result"
    }
   ],
   "source": [
    "[[round(yp.data, 4) for yp in yp_] for yp_ in ypred]"
   ]
  },
  {
   "cell_type": "markdown",
   "metadata": {},
   "source": [
    "# 3. Regression Example"
   ]
  },
  {
   "cell_type": "code",
   "execution_count": 14,
   "metadata": {},
   "outputs": [
    {
     "data": {
      "image/png": "[encoded data removed]",
      "text/plain": [
       "<Figure size 640x480 with 1 Axes>"
      ]
     },
     "metadata": {},
     "output_type": "display_data"
    }
   ],
   "source": [
    "import numpy as np\n",
    "import matplotlib.pyplot as plt\n",
    "\n",
    "def f(x):\n",
    "    return (1/5)*x**3 - 3*x + 4\n",
    "\n",
    "xs = np.arange(-5, 5, 0.25)\n",
    "ys = f(xs)\n",
    "# min max scaling to ys to be in [0, 1]\n",
    "ys = (ys - ys.min())/(ys.max() - ys.min())\n",
    "\n",
    "plt.plot(xs, ys)\n",
    "xs = [[x] for x in xs]"
   ]
  },
  {
   "cell_type": "code",
   "execution_count": 15,
   "metadata": {},
   "outputs": [],
   "source": [
    "from tqdm import tqdm\n",
    "\n",
    "def train(mlp, xs, ys, loss_fn, optimizer, nepochs=100):\n",
    "    for i in tqdm(range(nepochs)):\n",
    "        optimizer.zero_grad()\n",
    "        ypred = [mlp(x) for x in xs]\n",
    "        loss = loss_fn(ypred, ys)\n",
    "        # print(f\"Epoch [{i+1}/{nepochs}] | Loss: {loss.data:.6f}\")\n",
    "        loss.backward()   \n",
    "        optimizer.step()"
   ]
  },
  {
   "cell_type": "code",
   "execution_count": 16,
   "metadata": {},
   "outputs": [
    {
     "name": "stderr",
     "output_type": "stream",
     "text": [
      "100%|██████████| 2000/2000 [00:45<00:00, 44.24it/s]\n"
     ]
    }
   ],
   "source": [
    "from mikegrad.losses import MSELoss\n",
    "from mikegrad.optim import SGD\n",
    "\n",
    "mlp = MLP(1, [8, 1], act=mg.nn.Sigmoid())\n",
    "nepochs=2000\n",
    "loss_fn = MSELoss()\n",
    "lr=0.5\n",
    "optimizer = SGD(mlp.parameters(), lr=lr)\n",
    "train(mlp, xs, ys, loss_fn, optimizer, nepochs)"
   ]
  },
  {
   "cell_type": "code",
   "execution_count": 17,
   "metadata": {},
   "outputs": [
    {
     "name": "stdout",
     "output_type": "stream",
     "text": [
      "Loss: 0.001286\n"
     ]
    }
   ],
   "source": [
    "y_preds = [mlp(x) for x in xs]\n",
    "\n",
    "loss = loss_fn(y_preds, ys)\n",
    "print(f\"Loss: {loss.data:.6f}\")"
   ]
  },
  {
   "cell_type": "code",
   "execution_count": 18,
   "metadata": {},
   "outputs": [
    {
     "data": {
      "text/plain": [
       "<matplotlib.legend.Legend at 0x26d891f2900>"
      ]
     },
     "execution_count": 18,
     "metadata": {},
     "output_type": "execute_result"
    },
    {
     "data": {
      "image/png": "[encoded data removed]",
      "text/plain": [
       "<Figure size 640x480 with 1 Axes>"
      ]
     },
     "metadata": {},
     "output_type": "display_data"
    }
   ],
   "source": [
    "plt.plot(xs, [y.data for y in y_preds])\n",
    "plt.plot(xs, ys)\n",
    "plt.legend(['Predictions', 'Ground Truth'])"
   ]
  }
 ],
 "metadata": {
  "kernelspec": {
   "display_name": "torchenv",
   "language": "python",
   "name": "python3"
  },
  "language_info": {
   "codemirror_mode": {
    "name": "ipython",
    "version": 3
   },
   "file_extension": ".py",
   "mimetype": "text/x-python",
   "name": "python",
   "nbconvert_exporter": "python",
   "pygments_lexer": "ipython3",
   "version": "3.12.2"
  }
 },
 "nbformat": 4,
 "nbformat_minor": 2
}
