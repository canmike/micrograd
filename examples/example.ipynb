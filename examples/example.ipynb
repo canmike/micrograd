{
 "cells": [
  {
   "cell_type": "markdown",
   "metadata": {},
   "source": [
    "# 1. Binary Classification Example"
   ]
  },
  {
   "cell_type": "code",
   "execution_count": 1,
   "metadata": {},
   "outputs": [],
   "source": [
    "import mikegrad as mg"
   ]
  },
  {
   "cell_type": "code",
   "execution_count": 2,
   "metadata": {},
   "outputs": [],
   "source": [
    "xs = [\n",
    "  [2.0, 3.0, -1.0],\n",
    "  [3.0, -1.0, 0.5],\n",
    "  [0.5, 1.0, 1.0],\n",
    "  [1.0, 1.0, -1.0],\n",
    "]\n",
    "\n",
    "ys = [1.0, 0.0, 0.0, 1.0]\n",
    "\n",
    "xs = mg.from_list(xs)\n",
    "ys = mg.from_list(ys)"
   ]
  },
  {
   "cell_type": "code",
   "execution_count": 3,
   "metadata": {},
   "outputs": [
    {
     "data": {
      "text/plain": [
       "<mikegrad.nn.MLP at 0x1b52cf04710>"
      ]
     },
     "execution_count": 3,
     "metadata": {},
     "output_type": "execute_result"
    }
   ],
   "source": [
    "from mikegrad.nn import MLP\n",
    "mlp = MLP(nin=3, \n",
    "          nouts=[4, 4, 1],\n",
    "          act= mg.nn.ReLU(),\n",
    "          out_act= mg.nn.Sigmoid()\n",
    "          )\n",
    "mlp"
   ]
  },
  {
   "cell_type": "code",
   "execution_count": 4,
   "metadata": {},
   "outputs": [
    {
     "name": "stderr",
     "output_type": "stream",
     "text": [
      "Epochs: 100%|██████████| 1000/1000 [00:03<00:00, 257.77it/s, loss=0.000000]\n"
     ]
    }
   ],
   "source": [
    "from mikegrad.utils import train\n",
    "from mikegrad.losses import BCELoss\n",
    "from mikegrad.optim import Adam\n",
    "\n",
    "loss_fn = BCELoss()\n",
    "lr=0.1\n",
    "optimizer = Adam(mlp.parameters(), lr=lr)\n",
    "nepochs=1000\n",
    "train(mlp, xs, ys, loss_fn, optimizer, nepochs)"
   ]
  },
  {
   "cell_type": "code",
   "execution_count": 5,
   "metadata": {},
   "outputs": [
    {
     "name": "stderr",
     "output_type": "stream",
     "text": [
      "Testing: 100%|██████████| 4/4 [00:00<00:00, 1298.85it/s, loss=0.000000]"
     ]
    },
    {
     "name": "stdout",
     "output_type": "stream",
     "text": [
      "Loss: 0.000000\n",
      "Predictions:\n",
      "[1.0, 0.0, 0.0, 1.0]\n",
      "Targets:\n",
      "[1.0, 0.0, 0.0, 1.0]\n"
     ]
    },
    {
     "name": "stderr",
     "output_type": "stream",
     "text": [
      "\n"
     ]
    }
   ],
   "source": [
    "from mikegrad.utils import test\n",
    "\n",
    "loss, y_preds = test(mlp, xs, ys, loss_fn)\n",
    "\n",
    "print(f\"Loss: {loss:.6f}\")\n",
    "\n",
    "print(\"Predictions:\")\n",
    "print([round(yp, 2) for yp in mg.to_list(y_preds)])\n",
    "print(\"Targets:\")\n",
    "print(mg.to_list(ys))"
   ]
  },
  {
   "cell_type": "markdown",
   "metadata": {},
   "source": [
    "# 2. Multiclass Classification Example"
   ]
  },
  {
   "cell_type": "code",
   "execution_count": 6,
   "metadata": {},
   "outputs": [],
   "source": [
    "import mikegrad as mg"
   ]
  },
  {
   "cell_type": "code",
   "execution_count": 7,
   "metadata": {},
   "outputs": [],
   "source": [
    "xs = [\n",
    "  [2.0, 3.0, -1.0],\n",
    "  [3.0, -1.0, 0.5],\n",
    "  [-3.0, 0.01, 0.5],\n",
    "  [0.5, -1.0, 1.0],\n",
    "  [1.0, 1.0, -1.0],\n",
    "  [-2.4, 0.03, 0.6]\n",
    "]\n",
    "\n",
    "ys = [1, 0, 2, 0, 1, 2] # desired targets\n",
    "\n",
    "xs = mg.from_list(xs)\n",
    "ys = mg.from_list(ys)\n",
    "\n",
    "NUM_CLASSES = 3"
   ]
  },
  {
   "cell_type": "code",
   "execution_count": 8,
   "metadata": {},
   "outputs": [
    {
     "data": {
      "text/plain": [
       "<mikegrad.nn.MLP at 0x1b52d6171a0>"
      ]
     },
     "execution_count": 8,
     "metadata": {},
     "output_type": "execute_result"
    }
   ],
   "source": [
    "from mikegrad.nn import MLP\n",
    "mlp = MLP(nin=3, \n",
    "          nouts=[8, 8, NUM_CLASSES],\n",
    "          act= mg.nn.LeakyReLU(),\n",
    "          out_act= mg.nn.Softmax()\n",
    "          )\n",
    "mlp"
   ]
  },
  {
   "cell_type": "code",
   "execution_count": 9,
   "metadata": {},
   "outputs": [
    {
     "name": "stderr",
     "output_type": "stream",
     "text": [
      "Epochs: 100%|██████████| 1000/1000 [00:19<00:00, 52.59it/s, loss=0.000024]\n"
     ]
    }
   ],
   "source": [
    "from mikegrad.losses import CrossEntropyLoss\n",
    "from mikegrad.optim import AdamW\n",
    "from mikegrad.utils import train\n",
    "\n",
    "nepochs=1000\n",
    "loss_fn = CrossEntropyLoss()\n",
    "lr=0.1\n",
    "optimizer = AdamW(mlp.parameters(), lr=lr)\n",
    "train(mlp, xs, ys, loss_fn, optimizer, nepochs)"
   ]
  },
  {
   "cell_type": "code",
   "execution_count": 10,
   "metadata": {},
   "outputs": [
    {
     "name": "stderr",
     "output_type": "stream",
     "text": [
      "Testing: 100%|██████████| 6/6 [00:00<00:00, 600.59it/s, loss=0.000047]"
     ]
    },
    {
     "name": "stdout",
     "output_type": "stream",
     "text": [
      "Loss: 0.000024\n",
      "Predictions:\n",
      "[1, 0, 2, 0, 1, 2]\n",
      "Targets:\n",
      "[1, 0, 2, 0, 1, 2]\n"
     ]
    },
    {
     "name": "stderr",
     "output_type": "stream",
     "text": [
      "\n"
     ]
    }
   ],
   "source": [
    "from mikegrad.utils import test\n",
    "\n",
    "loss, y_preds = test(mlp, xs, ys, loss_fn)\n",
    "\n",
    "print(f\"Loss: {loss:.6f}\")\n",
    "\n",
    "print(\"Predictions:\")\n",
    "print([mg.argmax(yp) for yp in y_preds])\n",
    "print(\"Targets:\")\n",
    "print(mg.to_list(ys))"
   ]
  },
  {
   "cell_type": "code",
   "execution_count": 11,
   "metadata": {},
   "outputs": [
    {
     "data": {
      "text/plain": [
       "[[0.0, 1.0, 0.0],\n",
       " [1.0, 0.0, 0.0],\n",
       " [0.0, 0.0, 1.0],\n",
       " [1.0, 0.0, 0.0],\n",
       " [0.0, 1.0, 0.0],\n",
       " [0.0, 0.0, 1.0]]"
      ]
     },
     "execution_count": 11,
     "metadata": {},
     "output_type": "execute_result"
    }
   ],
   "source": [
    "[[round(yp.data, 4) for yp in yp_] for yp_ in y_preds]"
   ]
  },
  {
   "cell_type": "markdown",
   "metadata": {},
   "source": [
    "# 3. Regression Example"
   ]
  },
  {
   "cell_type": "code",
   "execution_count": 12,
   "metadata": {},
   "outputs": [
    {
     "data": {
      "image/png": "[encoded data removed]",
      "text/plain": [
       "<Figure size 640x480 with 1 Axes>"
      ]
     },
     "metadata": {},
     "output_type": "display_data"
    }
   ],
   "source": [
    "import numpy as np\n",
    "import matplotlib.pyplot as plt\n",
    "\n",
    "def f(x):\n",
    "    return (1/5)*x**3 - 3*x + 4\n",
    "\n",
    "xs = np.arange(-5, 5, 0.25)\n",
    "ys = f(xs)\n",
    "# min max scaling to ys to be in [0, 1]\n",
    "ys = (ys - ys.min())/(ys.max() - ys.min())\n",
    "\n",
    "plt.plot(xs, ys)\n",
    "xs = mg.from_list([[x] for x in xs])\n",
    "ys = mg.from_numpy(ys)"
   ]
  },
  {
   "cell_type": "code",
   "execution_count": 13,
   "metadata": {},
   "outputs": [
    {
     "name": "stderr",
     "output_type": "stream",
     "text": [
      "Epochs: 100%|██████████| 2000/2000 [00:46<00:00, 42.74it/s, loss=0.019114]\n"
     ]
    }
   ],
   "source": [
    "from mikegrad.losses import MSELoss\n",
    "from mikegrad.optim import SGD\n",
    "from mikegrad.utils import train\n",
    "\n",
    "mlp = MLP(1, [8, 1], act=mg.nn.Sigmoid())\n",
    "nepochs=2000\n",
    "loss_fn = MSELoss()\n",
    "lr=0.5\n",
    "optimizer = SGD(mlp.parameters(), lr=lr)\n",
    "train(mlp, xs, ys, loss_fn, optimizer, nepochs)"
   ]
  },
  {
   "cell_type": "code",
   "execution_count": 14,
   "metadata": {},
   "outputs": [
    {
     "name": "stderr",
     "output_type": "stream",
     "text": [
      "Testing: 100%|██████████| 40/40 [00:00<00:00, 1276.84it/s, loss=0.144830]"
     ]
    },
    {
     "name": "stdout",
     "output_type": "stream",
     "text": [
      "Loss: 0.019458\n"
     ]
    },
    {
     "name": "stderr",
     "output_type": "stream",
     "text": [
      "\n"
     ]
    }
   ],
   "source": [
    "from mikegrad.utils import test\n",
    "\n",
    "loss, y_preds = test(mlp, xs, ys, loss_fn)\n",
    "\n",
    "print(f\"Loss: {loss:.6f}\")"
   ]
  },
  {
   "cell_type": "code",
   "execution_count": 15,
   "metadata": {},
   "outputs": [
    {
     "data": {
      "text/plain": [
       "<matplotlib.legend.Legend at 0x1b530068ef0>"
      ]
     },
     "execution_count": 15,
     "metadata": {},
     "output_type": "execute_result"
    },
    {
     "data": {
      "image/png": "[encoded data removed]",
      "text/plain": [
       "<Figure size 640x480 with 1 Axes>"
      ]
     },
     "metadata": {},
     "output_type": "display_data"
    }
   ],
   "source": [
    "plt.plot(mg.to_list(xs), mg.to_list(y_preds))\n",
    "plt.plot(mg.to_list(xs), mg.to_list(ys))\n",
    "plt.legend(['Predictions', 'Ground Truth'])"
   ]
  }
 ],
 "metadata": {
  "kernelspec": {
   "display_name": "torchenv",
   "language": "python",
   "name": "python3"
  },
  "language_info": {
   "codemirror_mode": {
    "name": "ipython",
    "version": 3
   },
   "file_extension": ".py",
   "mimetype": "text/x-python",
   "name": "python",
   "nbconvert_exporter": "python",
   "pygments_lexer": "ipython3",
   "version": "3.12.2"
  }
 },
 "nbformat": 4,
 "nbformat_minor": 2
}
